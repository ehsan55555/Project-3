{
 "cells": [
  {
   "cell_type": "code",
   "execution_count": 1,
   "id": "5ea3ecc2-27b3-474e-b140-bc3b70460f43",
   "metadata": {
    "tags": []
   },
   "outputs": [],
   "source": [
    "# Import Dependencies and set Maximum Column Width \n",
    "import pandas as pd\n",
    "import numpy as np\n",
    "pd.set_option('max_colwidth', 400)"
   ]
  },
  {
   "cell_type": "code",
   "execution_count": 2,
   "id": "67c0ca4f-0498-4d44-9458-9e228ff42d2b",
   "metadata": {
    "tags": []
   },
   "outputs": [
    {
     "data": {
      "text/html": [
       "<div>\n",
       "<style scoped>\n",
       "    .dataframe tbody tr th:only-of-type {\n",
       "        vertical-align: middle;\n",
       "    }\n",
       "\n",
       "    .dataframe tbody tr th {\n",
       "        vertical-align: top;\n",
       "    }\n",
       "\n",
       "    .dataframe thead th {\n",
       "        text-align: right;\n",
       "    }\n",
       "</style>\n",
       "<table border=\"1\" class=\"dataframe\">\n",
       "  <thead>\n",
       "    <tr style=\"text-align: right;\">\n",
       "      <th></th>\n",
       "      <th>crash_date</th>\n",
       "      <th>crash_time</th>\n",
       "      <th>collision_id</th>\n",
       "      <th>borough</th>\n",
       "      <th>latitude</th>\n",
       "      <th>longitude</th>\n",
       "      <th>persons_injured</th>\n",
       "      <th>persons_killed</th>\n",
       "      <th>pedestrians_injured</th>\n",
       "      <th>pedestrians_killed</th>\n",
       "      <th>...</th>\n",
       "      <th>contr_factor_veh_1</th>\n",
       "      <th>contr_factor_veh_2</th>\n",
       "      <th>contr_factor_veh_3</th>\n",
       "      <th>contr_factor_veh_4</th>\n",
       "      <th>contr_factor_veh_5</th>\n",
       "      <th>veh_type_code_1</th>\n",
       "      <th>veh_type_code_2</th>\n",
       "      <th>veh_type_code_3</th>\n",
       "      <th>veh_type_code_4</th>\n",
       "      <th>veh_type_code_5</th>\n",
       "    </tr>\n",
       "  </thead>\n",
       "  <tbody>\n",
       "    <tr>\n",
       "      <th>0</th>\n",
       "      <td>2020-01-01</td>\n",
       "      <td>04:20 AM</td>\n",
       "      <td>4269445</td>\n",
       "      <td>QUEENS</td>\n",
       "      <td>40.762196</td>\n",
       "      <td>-73.870415</td>\n",
       "      <td>1</td>\n",
       "      <td>0</td>\n",
       "      <td>0</td>\n",
       "      <td>0</td>\n",
       "      <td>...</td>\n",
       "      <td>Alcohol Involvement</td>\n",
       "      <td>Other Vehicular</td>\n",
       "      <td>Other Vehicular</td>\n",
       "      <td>Other Vehicular</td>\n",
       "      <td>NaN</td>\n",
       "      <td>Station Wagon/Sport Utility Vehicle</td>\n",
       "      <td>Station Wagon/Sport Utility Vehicle</td>\n",
       "      <td>Sedan</td>\n",
       "      <td>Station Wagon/Sport Utility Vehicle</td>\n",
       "      <td>NaN</td>\n",
       "    </tr>\n",
       "    <tr>\n",
       "      <th>1</th>\n",
       "      <td>2020-01-01</td>\n",
       "      <td>03:41 PM</td>\n",
       "      <td>4267699</td>\n",
       "      <td>MANHATTAN</td>\n",
       "      <td>40.780754</td>\n",
       "      <td>-73.952580</td>\n",
       "      <td>0</td>\n",
       "      <td>0</td>\n",
       "      <td>0</td>\n",
       "      <td>0</td>\n",
       "      <td>...</td>\n",
       "      <td>Driver Inattention/Distraction</td>\n",
       "      <td>Unspecified</td>\n",
       "      <td>NaN</td>\n",
       "      <td>NaN</td>\n",
       "      <td>NaN</td>\n",
       "      <td>Station Wagon/Sport Utility Vehicle</td>\n",
       "      <td>Taxi</td>\n",
       "      <td>NaN</td>\n",
       "      <td>NaN</td>\n",
       "      <td>NaN</td>\n",
       "    </tr>\n",
       "    <tr>\n",
       "      <th>2</th>\n",
       "      <td>2020-01-01</td>\n",
       "      <td>07:00 PM</td>\n",
       "      <td>4268937</td>\n",
       "      <td>QUEENS</td>\n",
       "      <td>40.725353</td>\n",
       "      <td>-73.821080</td>\n",
       "      <td>0</td>\n",
       "      <td>0</td>\n",
       "      <td>0</td>\n",
       "      <td>0</td>\n",
       "      <td>...</td>\n",
       "      <td>Unspecified</td>\n",
       "      <td>NaN</td>\n",
       "      <td>NaN</td>\n",
       "      <td>NaN</td>\n",
       "      <td>NaN</td>\n",
       "      <td>Sedan</td>\n",
       "      <td>Unspecified</td>\n",
       "      <td>NaN</td>\n",
       "      <td>NaN</td>\n",
       "      <td>NaN</td>\n",
       "    </tr>\n",
       "    <tr>\n",
       "      <th>3</th>\n",
       "      <td>2020-01-01</td>\n",
       "      <td>02:40 PM</td>\n",
       "      <td>4270271</td>\n",
       "      <td>QUEENS</td>\n",
       "      <td>40.753826</td>\n",
       "      <td>-73.884120</td>\n",
       "      <td>0</td>\n",
       "      <td>0</td>\n",
       "      <td>0</td>\n",
       "      <td>0</td>\n",
       "      <td>...</td>\n",
       "      <td>Driver Inattention/Distraction</td>\n",
       "      <td>Driver Inattention/Distraction</td>\n",
       "      <td>NaN</td>\n",
       "      <td>NaN</td>\n",
       "      <td>NaN</td>\n",
       "      <td>Station Wagon/Sport Utility Vehicle</td>\n",
       "      <td>Station Wagon/Sport Utility Vehicle</td>\n",
       "      <td>NaN</td>\n",
       "      <td>NaN</td>\n",
       "      <td>NaN</td>\n",
       "    </tr>\n",
       "    <tr>\n",
       "      <th>4</th>\n",
       "      <td>2020-01-01</td>\n",
       "      <td>05:00 AM</td>\n",
       "      <td>4268926</td>\n",
       "      <td>QUEENS</td>\n",
       "      <td>40.747097</td>\n",
       "      <td>-73.886665</td>\n",
       "      <td>0</td>\n",
       "      <td>0</td>\n",
       "      <td>0</td>\n",
       "      <td>0</td>\n",
       "      <td>...</td>\n",
       "      <td>Unspecified</td>\n",
       "      <td>NaN</td>\n",
       "      <td>NaN</td>\n",
       "      <td>NaN</td>\n",
       "      <td>NaN</td>\n",
       "      <td>Sedan</td>\n",
       "      <td>Unspecified</td>\n",
       "      <td>NaN</td>\n",
       "      <td>NaN</td>\n",
       "      <td>NaN</td>\n",
       "    </tr>\n",
       "  </tbody>\n",
       "</table>\n",
       "<p>5 rows × 24 columns</p>\n",
       "</div>"
      ],
      "text/plain": [
       "   crash_date crash_time  collision_id    borough   latitude  longitude  \\\n",
       "0  2020-01-01   04:20 AM       4269445     QUEENS  40.762196 -73.870415   \n",
       "1  2020-01-01   03:41 PM       4267699  MANHATTAN  40.780754 -73.952580   \n",
       "2  2020-01-01   07:00 PM       4268937     QUEENS  40.725353 -73.821080   \n",
       "3  2020-01-01   02:40 PM       4270271     QUEENS  40.753826 -73.884120   \n",
       "4  2020-01-01   05:00 AM       4268926     QUEENS  40.747097 -73.886665   \n",
       "\n",
       "   persons_injured  persons_killed  pedestrians_injured  pedestrians_killed  \\\n",
       "0                1               0                    0                   0   \n",
       "1                0               0                    0                   0   \n",
       "2                0               0                    0                   0   \n",
       "3                0               0                    0                   0   \n",
       "4                0               0                    0                   0   \n",
       "\n",
       "   ...              contr_factor_veh_1              contr_factor_veh_2  \\\n",
       "0  ...             Alcohol Involvement                 Other Vehicular   \n",
       "1  ...  Driver Inattention/Distraction                     Unspecified   \n",
       "2  ...                     Unspecified                             NaN   \n",
       "3  ...  Driver Inattention/Distraction  Driver Inattention/Distraction   \n",
       "4  ...                     Unspecified                             NaN   \n",
       "\n",
       "   contr_factor_veh_3  contr_factor_veh_4 contr_factor_veh_5  \\\n",
       "0     Other Vehicular     Other Vehicular                NaN   \n",
       "1                 NaN                 NaN                NaN   \n",
       "2                 NaN                 NaN                NaN   \n",
       "3                 NaN                 NaN                NaN   \n",
       "4                 NaN                 NaN                NaN   \n",
       "\n",
       "                       veh_type_code_1                      veh_type_code_2  \\\n",
       "0  Station Wagon/Sport Utility Vehicle  Station Wagon/Sport Utility Vehicle   \n",
       "1  Station Wagon/Sport Utility Vehicle                                 Taxi   \n",
       "2                                Sedan                          Unspecified   \n",
       "3  Station Wagon/Sport Utility Vehicle  Station Wagon/Sport Utility Vehicle   \n",
       "4                                Sedan                          Unspecified   \n",
       "\n",
       "  veh_type_code_3                      veh_type_code_4 veh_type_code_5  \n",
       "0           Sedan  Station Wagon/Sport Utility Vehicle             NaN  \n",
       "1             NaN                                  NaN             NaN  \n",
       "2             NaN                                  NaN             NaN  \n",
       "3             NaN                                  NaN             NaN  \n",
       "4             NaN                                  NaN             NaN  \n",
       "\n",
       "[5 rows x 24 columns]"
      ]
     },
     "execution_count": 2,
     "metadata": {},
     "output_type": "execute_result"
    }
   ],
   "source": [
    "# Read CSV \n",
    "fatality_table_df = pd.read_csv('Resources/Cleaned.csv')\n",
    "fatality_table_df.head()"
   ]
  },
  {
   "cell_type": "code",
   "execution_count": 3,
   "id": "b32e6302-498f-44e5-a604-70672001294c",
   "metadata": {
    "tags": []
   },
   "outputs": [
    {
     "data": {
      "text/plain": [
       "array(['QUEENS', 'MANHATTAN', 'BROOKLYN', 'BRONX', 'STATEN ISLAND',\n",
       "       'Unknown'], dtype=object)"
      ]
     },
     "execution_count": 3,
     "metadata": {},
     "output_type": "execute_result"
    }
   ],
   "source": [
    "# Show unique Borough names\n",
    "unique_boroughs = fatality_table_df['borough'].unique()\n",
    "unique_boroughs"
   ]
  },
  {
   "cell_type": "code",
   "execution_count": 4,
   "id": "6b83889e-3efa-4d9e-a56a-999c21c5fe31",
   "metadata": {
    "tags": []
   },
   "outputs": [
    {
     "data": {
      "text/plain": [
       "borough\n",
       "BRONX            29142\n",
       "BROOKLYN         64226\n",
       "MANHATTAN        55382\n",
       "QUEENS           47105\n",
       "STATEN ISLAND     7842\n",
       "Unknown           2042\n",
       "Name: collision_id, dtype: int64"
      ]
     },
     "execution_count": 4,
     "metadata": {},
     "output_type": "execute_result"
    }
   ],
   "source": [
    "# Count number of collisions per Borough\n",
    "per_borough_counts = fatality_table_df.groupby('borough')['collision_id'].count()\n",
    "per_borough_counts"
   ]
  },
  {
   "cell_type": "code",
   "execution_count": 5,
   "id": "ce08938c-0542-49db-bffe-e6bb2d45e537",
   "metadata": {
    "tags": []
   },
   "outputs": [
    {
     "data": {
      "text/plain": [
       "borough\n",
       "BRONX            28\n",
       "BROOKLYN         68\n",
       "MANHATTAN        54\n",
       "QUEENS           45\n",
       "STATEN ISLAND     8\n",
       "Unknown           4\n",
       "Name: pedestrians_killed, dtype: int64"
      ]
     },
     "execution_count": 5,
     "metadata": {},
     "output_type": "execute_result"
    }
   ],
   "source": [
    "# Count number of Pedestrian Deaths per Borough\n",
    "pedestrian_numbers = fatality_table_df.groupby('borough')['pedestrians_killed'].sum()\n",
    "pedestrian_numbers"
   ]
  },
  {
   "cell_type": "code",
   "execution_count": 6,
   "id": "2a125b0a-632f-44d4-b5c8-dc6c586e22ff",
   "metadata": {
    "tags": []
   },
   "outputs": [
    {
     "data": {
      "text/plain": [
       "borough\n",
       "BRONX             7\n",
       "BROOKLYN         11\n",
       "MANHATTAN        19\n",
       "QUEENS            3\n",
       "STATEN ISLAND     1\n",
       "Unknown           0\n",
       "Name: cyclists_killed, dtype: int64"
      ]
     },
     "execution_count": 6,
     "metadata": {},
     "output_type": "execute_result"
    }
   ],
   "source": [
    "# Count number of Cyclist Deaths per Borough\n",
    "cyclist_numbers = fatality_table_df.groupby('borough')['cyclists_killed'].sum()\n",
    "cyclist_numbers"
   ]
  },
  {
   "cell_type": "code",
   "execution_count": 7,
   "id": "15a009b5-4325-4f2c-b573-5c5c93aaef45",
   "metadata": {
    "tags": []
   },
   "outputs": [
    {
     "data": {
      "text/plain": [
       "borough\n",
       "BRONX            46\n",
       "BROOKLYN         51\n",
       "MANHATTAN        51\n",
       "QUEENS           68\n",
       "STATEN ISLAND    14\n",
       "Unknown           0\n",
       "Name: motorists_killed, dtype: int64"
      ]
     },
     "execution_count": 7,
     "metadata": {},
     "output_type": "execute_result"
    }
   ],
   "source": [
    "# Count number of Motorist Deaths per Borough\n",
    "motorist_numbers = fatality_table_df.groupby('borough')['motorists_killed'].sum()\n",
    "motorist_numbers"
   ]
  },
  {
   "cell_type": "code",
   "execution_count": 8,
   "id": "6fb31c5f-9a5b-4d9e-9f1d-6d5e4f6f28a2",
   "metadata": {},
   "outputs": [
    {
     "data": {
      "text/plain": [
       "borough\n",
       "BRONX             81\n",
       "BROOKLYN         130\n",
       "MANHATTAN        124\n",
       "QUEENS           116\n",
       "STATEN ISLAND     23\n",
       "Unknown            4\n",
       "dtype: int64"
      ]
     },
     "execution_count": 8,
     "metadata": {},
     "output_type": "execute_result"
    }
   ],
   "source": [
    "total_deaths = pedestrian_numbers + motorist_numbers + cyclist_numbers\n",
    "total_deaths"
   ]
  },
  {
   "cell_type": "code",
   "execution_count": 9,
   "id": "410415a1-7304-40bb-b165-36227de06a7e",
   "metadata": {
    "tags": []
   },
   "outputs": [],
   "source": [
    "# Calculate percentage of Deaths relative to total Deaths for each Type and each Borough\n",
    "pedestrian_percentages = (pedestrian_numbers / total_deaths) * 100\n",
    "cyclist_percentages = (cyclist_numbers / total_deaths) * 100\n",
    "motorist_percentages = (motorist_numbers / total_deaths) * 100"
   ]
  },
  {
   "cell_type": "code",
   "execution_count": 10,
   "id": "0cdf00ed-ab3b-4f09-9efe-6c11e3eb3bea",
   "metadata": {
    "tags": []
   },
   "outputs": [
    {
     "data": {
      "text/html": [
       "<div>\n",
       "<style scoped>\n",
       "    .dataframe tbody tr th:only-of-type {\n",
       "        vertical-align: middle;\n",
       "    }\n",
       "\n",
       "    .dataframe tbody tr th {\n",
       "        vertical-align: top;\n",
       "    }\n",
       "\n",
       "    .dataframe thead th {\n",
       "        text-align: right;\n",
       "    }\n",
       "</style>\n",
       "<table border=\"1\" class=\"dataframe\">\n",
       "  <thead>\n",
       "    <tr style=\"text-align: right;\">\n",
       "      <th></th>\n",
       "      <th>Boroughs</th>\n",
       "      <th>Pedestrian Death Percentage</th>\n",
       "      <th>Cyclist Death Percentage</th>\n",
       "      <th>Motorist Death Percentage</th>\n",
       "    </tr>\n",
       "    <tr>\n",
       "      <th>borough</th>\n",
       "      <th></th>\n",
       "      <th></th>\n",
       "      <th></th>\n",
       "      <th></th>\n",
       "    </tr>\n",
       "  </thead>\n",
       "  <tbody>\n",
       "    <tr>\n",
       "      <th>BRONX</th>\n",
       "      <td>QUEENS</td>\n",
       "      <td>34.567901</td>\n",
       "      <td>8.641975</td>\n",
       "      <td>56.790123</td>\n",
       "    </tr>\n",
       "    <tr>\n",
       "      <th>BROOKLYN</th>\n",
       "      <td>MANHATTAN</td>\n",
       "      <td>52.307692</td>\n",
       "      <td>8.461538</td>\n",
       "      <td>39.230769</td>\n",
       "    </tr>\n",
       "    <tr>\n",
       "      <th>MANHATTAN</th>\n",
       "      <td>BROOKLYN</td>\n",
       "      <td>43.548387</td>\n",
       "      <td>15.322581</td>\n",
       "      <td>41.129032</td>\n",
       "    </tr>\n",
       "    <tr>\n",
       "      <th>QUEENS</th>\n",
       "      <td>BRONX</td>\n",
       "      <td>38.793103</td>\n",
       "      <td>2.586207</td>\n",
       "      <td>58.620690</td>\n",
       "    </tr>\n",
       "    <tr>\n",
       "      <th>STATEN ISLAND</th>\n",
       "      <td>STATEN ISLAND</td>\n",
       "      <td>34.782609</td>\n",
       "      <td>4.347826</td>\n",
       "      <td>60.869565</td>\n",
       "    </tr>\n",
       "  </tbody>\n",
       "</table>\n",
       "</div>"
      ],
      "text/plain": [
       "                    Boroughs  Pedestrian Death Percentage  \\\n",
       "borough                                                     \n",
       "BRONX                 QUEENS                    34.567901   \n",
       "BROOKLYN           MANHATTAN                    52.307692   \n",
       "MANHATTAN           BROOKLYN                    43.548387   \n",
       "QUEENS                 BRONX                    38.793103   \n",
       "STATEN ISLAND  STATEN ISLAND                    34.782609   \n",
       "\n",
       "               Cyclist Death Percentage  Motorist Death Percentage  \n",
       "borough                                                             \n",
       "BRONX                          8.641975                  56.790123  \n",
       "BROOKLYN                       8.461538                  39.230769  \n",
       "MANHATTAN                     15.322581                  41.129032  \n",
       "QUEENS                         2.586207                  58.620690  \n",
       "STATEN ISLAND                  4.347826                  60.869565  "
      ]
     },
     "execution_count": 10,
     "metadata": {},
     "output_type": "execute_result"
    }
   ],
   "source": [
    "# Create DataFrame with percentages\n",
    "deaths_df = pd.DataFrame({'Boroughs': unique_boroughs, 'Pedestrian Death Percentage': pedestrian_percentages, 'Cyclist Death Percentage': cyclist_percentages, 'Motorist Death Percentage': motorist_percentages})\n",
    "deaths_df.head()                          "
   ]
  },
  {
   "cell_type": "code",
   "execution_count": 11,
   "id": "769a0c5f-5c44-448a-9921-576a808b9928",
   "metadata": {
    "tags": []
   },
   "outputs": [],
   "source": [
    "# Round percentages to two decimal places\n",
    "deaths_df['Pedestrian Death Percentage'] = deaths_df['Pedestrian Death Percentage'].map(\"{:,.2f}\".format)\n",
    "deaths_df['Cyclist Death Percentage'] = deaths_df['Cyclist Death Percentage'].map(\"{:,.2f}\".format)\n",
    "deaths_df['Motorist Death Percentage'] = deaths_df['Motorist Death Percentage'].map(\"{:,.2f}\".format)"
   ]
  },
  {
   "cell_type": "code",
   "execution_count": 12,
   "id": "c5b525aa-5a50-425b-ab49-a06f6af40652",
   "metadata": {
    "tags": []
   },
   "outputs": [
    {
     "data": {
      "text/html": [
       "<div>\n",
       "<style scoped>\n",
       "    .dataframe tbody tr th:only-of-type {\n",
       "        vertical-align: middle;\n",
       "    }\n",
       "\n",
       "    .dataframe tbody tr th {\n",
       "        vertical-align: top;\n",
       "    }\n",
       "\n",
       "    .dataframe thead th {\n",
       "        text-align: right;\n",
       "    }\n",
       "</style>\n",
       "<table border=\"1\" class=\"dataframe\">\n",
       "  <thead>\n",
       "    <tr style=\"text-align: right;\">\n",
       "      <th></th>\n",
       "      <th>Boroughs</th>\n",
       "      <th>Pedestrian Death Percentage</th>\n",
       "      <th>Cyclist Death Percentage</th>\n",
       "      <th>Motorist Death Percentage</th>\n",
       "    </tr>\n",
       "    <tr>\n",
       "      <th>borough</th>\n",
       "      <th></th>\n",
       "      <th></th>\n",
       "      <th></th>\n",
       "      <th></th>\n",
       "    </tr>\n",
       "  </thead>\n",
       "  <tbody>\n",
       "    <tr>\n",
       "      <th>QUEENS</th>\n",
       "      <td>BRONX</td>\n",
       "      <td>38.79</td>\n",
       "      <td>2.59</td>\n",
       "      <td>58.62</td>\n",
       "    </tr>\n",
       "    <tr>\n",
       "      <th>MANHATTAN</th>\n",
       "      <td>BROOKLYN</td>\n",
       "      <td>43.55</td>\n",
       "      <td>15.32</td>\n",
       "      <td>41.13</td>\n",
       "    </tr>\n",
       "    <tr>\n",
       "      <th>BROOKLYN</th>\n",
       "      <td>MANHATTAN</td>\n",
       "      <td>52.31</td>\n",
       "      <td>8.46</td>\n",
       "      <td>39.23</td>\n",
       "    </tr>\n",
       "    <tr>\n",
       "      <th>BRONX</th>\n",
       "      <td>QUEENS</td>\n",
       "      <td>34.57</td>\n",
       "      <td>8.64</td>\n",
       "      <td>56.79</td>\n",
       "    </tr>\n",
       "    <tr>\n",
       "      <th>STATEN ISLAND</th>\n",
       "      <td>STATEN ISLAND</td>\n",
       "      <td>34.78</td>\n",
       "      <td>4.35</td>\n",
       "      <td>60.87</td>\n",
       "    </tr>\n",
       "  </tbody>\n",
       "</table>\n",
       "</div>"
      ],
      "text/plain": [
       "                    Boroughs Pedestrian Death Percentage  \\\n",
       "borough                                                    \n",
       "QUEENS                 BRONX                       38.79   \n",
       "MANHATTAN           BROOKLYN                       43.55   \n",
       "BROOKLYN           MANHATTAN                       52.31   \n",
       "BRONX                 QUEENS                       34.57   \n",
       "STATEN ISLAND  STATEN ISLAND                       34.78   \n",
       "\n",
       "              Cyclist Death Percentage Motorist Death Percentage  \n",
       "borough                                                           \n",
       "QUEENS                            2.59                     58.62  \n",
       "MANHATTAN                        15.32                     41.13  \n",
       "BROOKLYN                          8.46                     39.23  \n",
       "BRONX                             8.64                     56.79  \n",
       "STATEN ISLAND                     4.35                     60.87  "
      ]
     },
     "execution_count": 12,
     "metadata": {},
     "output_type": "execute_result"
    }
   ],
   "source": [
    "# Sort values by Borough (ascending)\n",
    "deaths_df = deaths_df.sort_values('Boroughs')\n",
    "deaths_df.head()"
   ]
  },
  {
   "cell_type": "code",
   "execution_count": 13,
   "id": "f3ce8a97-7037-468c-a787-793fef497987",
   "metadata": {},
   "outputs": [],
   "source": [
    "# Export Dataframe to CSV file\n",
    "deaths_df.to_csv(\"Resources/percentages.csv\", encoding='utf8', index=False)"
   ]
  },
  {
   "cell_type": "code",
   "execution_count": 14,
   "id": "768e47ca-ee8a-41f2-be95-c7cb4503263b",
   "metadata": {},
   "outputs": [
    {
     "data": {
      "text/html": [
       "<div>\n",
       "<style scoped>\n",
       "    .dataframe tbody tr th:only-of-type {\n",
       "        vertical-align: middle;\n",
       "    }\n",
       "\n",
       "    .dataframe tbody tr th {\n",
       "        vertical-align: top;\n",
       "    }\n",
       "\n",
       "    .dataframe thead th {\n",
       "        text-align: right;\n",
       "    }\n",
       "</style>\n",
       "<table border=\"1\" class=\"dataframe\">\n",
       "  <thead>\n",
       "    <tr style=\"text-align: right;\">\n",
       "      <th></th>\n",
       "      <th>pedestrian_deaths</th>\n",
       "      <th>cyclist_deaths</th>\n",
       "      <th>motorist_deaths</th>\n",
       "    </tr>\n",
       "    <tr>\n",
       "      <th>borough</th>\n",
       "      <th></th>\n",
       "      <th></th>\n",
       "      <th></th>\n",
       "    </tr>\n",
       "  </thead>\n",
       "  <tbody>\n",
       "    <tr>\n",
       "      <th>BRONX</th>\n",
       "      <td>28</td>\n",
       "      <td>7</td>\n",
       "      <td>46</td>\n",
       "    </tr>\n",
       "    <tr>\n",
       "      <th>BROOKLYN</th>\n",
       "      <td>68</td>\n",
       "      <td>11</td>\n",
       "      <td>51</td>\n",
       "    </tr>\n",
       "    <tr>\n",
       "      <th>MANHATTAN</th>\n",
       "      <td>54</td>\n",
       "      <td>19</td>\n",
       "      <td>51</td>\n",
       "    </tr>\n",
       "    <tr>\n",
       "      <th>QUEENS</th>\n",
       "      <td>45</td>\n",
       "      <td>3</td>\n",
       "      <td>68</td>\n",
       "    </tr>\n",
       "    <tr>\n",
       "      <th>STATEN ISLAND</th>\n",
       "      <td>8</td>\n",
       "      <td>1</td>\n",
       "      <td>14</td>\n",
       "    </tr>\n",
       "    <tr>\n",
       "      <th>Unknown</th>\n",
       "      <td>4</td>\n",
       "      <td>0</td>\n",
       "      <td>0</td>\n",
       "    </tr>\n",
       "  </tbody>\n",
       "</table>\n",
       "</div>"
      ],
      "text/plain": [
       "               pedestrian_deaths  cyclist_deaths  motorist_deaths\n",
       "borough                                                          \n",
       "BRONX                         28               7               46\n",
       "BROOKLYN                      68              11               51\n",
       "MANHATTAN                     54              19               51\n",
       "QUEENS                        45               3               68\n",
       "STATEN ISLAND                  8               1               14\n",
       "Unknown                        4               0                0"
      ]
     },
     "execution_count": 14,
     "metadata": {},
     "output_type": "execute_result"
    }
   ],
   "source": [
    "# Create DataFrame to show raw Death numbers per Type and per Borough\n",
    "numbers_df = pd.DataFrame({'Borough': unique_boroughs, 'pedestrian_deaths': pedestrian_numbers, 'cyclist_deaths': cyclist_numbers, 'motorist_deaths': motorist_numbers})\n",
    "numbers_df.sort_values('Borough')\n",
    "numbers_df.drop('Borough', axis=1)"
   ]
  },
  {
   "cell_type": "code",
   "execution_count": 15,
   "id": "c339b8a3-dad8-4073-b120-a49dcd901209",
   "metadata": {
    "tags": []
   },
   "outputs": [],
   "source": [
    "# Export Dataframe to CSV file\n",
    "numbers_df.to_csv(\"Resources/death_numbers.csv\", encoding='utf8', index=False)"
   ]
  },
  {
   "cell_type": "code",
   "execution_count": null,
   "id": "6c790402-7e90-47f2-9139-8b65e8eec4f1",
   "metadata": {},
   "outputs": [],
   "source": []
  }
 ],
 "metadata": {
  "kernelspec": {
   "display_name": "Python 3 (ipykernel)",
   "language": "python",
   "name": "python3"
  },
  "language_info": {
   "codemirror_mode": {
    "name": "ipython",
    "version": 3
   },
   "file_extension": ".py",
   "mimetype": "text/x-python",
   "name": "python",
   "nbconvert_exporter": "python",
   "pygments_lexer": "ipython3",
   "version": "3.10.11"
  }
 },
 "nbformat": 4,
 "nbformat_minor": 5
}
