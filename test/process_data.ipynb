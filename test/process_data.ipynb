{
 "cells": [
  {
   "cell_type": "code",
   "execution_count": 2,
   "id": "9a7a6e60-67f6-4f3a-af2a-a0eb090ac19e",
   "metadata": {
    "tags": []
   },
   "outputs": [],
   "source": [
    "# Import dependencies\n",
    "import pandas as pd\n",
    "import numpy as np\n",
    "pd.set_option('max_colwidth', 400)"
   ]
  },
  {
   "cell_type": "code",
   "execution_count": 3,
   "id": "953e1c67-136a-4fc1-bf39-67a9c79bd7b6",
   "metadata": {
    "tags": []
   },
   "outputs": [
    {
     "data": {
      "text/html": [
       "<div>\n",
       "<style scoped>\n",
       "    .dataframe tbody tr th:only-of-type {\n",
       "        vertical-align: middle;\n",
       "    }\n",
       "\n",
       "    .dataframe tbody tr th {\n",
       "        vertical-align: top;\n",
       "    }\n",
       "\n",
       "    .dataframe thead th {\n",
       "        text-align: right;\n",
       "    }\n",
       "</style>\n",
       "<table border=\"1\" class=\"dataframe\">\n",
       "  <thead>\n",
       "    <tr style=\"text-align: right;\">\n",
       "      <th></th>\n",
       "      <th>collision_id</th>\n",
       "      <th>crash_date</th>\n",
       "      <th>crash_time</th>\n",
       "      <th>borough</th>\n",
       "      <th>latitude</th>\n",
       "      <th>longitude</th>\n",
       "    </tr>\n",
       "  </thead>\n",
       "  <tbody>\n",
       "    <tr>\n",
       "      <th>0</th>\n",
       "      <td>4269445</td>\n",
       "      <td>2020-01-01</td>\n",
       "      <td>04:20 AM</td>\n",
       "      <td>QUEENS</td>\n",
       "      <td>40.762196</td>\n",
       "      <td>-73.870415</td>\n",
       "    </tr>\n",
       "    <tr>\n",
       "      <th>1</th>\n",
       "      <td>4267699</td>\n",
       "      <td>2020-01-01</td>\n",
       "      <td>03:41 PM</td>\n",
       "      <td>MANHATTAN</td>\n",
       "      <td>40.780754</td>\n",
       "      <td>-73.952580</td>\n",
       "    </tr>\n",
       "    <tr>\n",
       "      <th>2</th>\n",
       "      <td>4268937</td>\n",
       "      <td>2020-01-01</td>\n",
       "      <td>07:00 PM</td>\n",
       "      <td>QUEENS</td>\n",
       "      <td>40.725353</td>\n",
       "      <td>-73.821080</td>\n",
       "    </tr>\n",
       "    <tr>\n",
       "      <th>3</th>\n",
       "      <td>4270271</td>\n",
       "      <td>2020-01-01</td>\n",
       "      <td>02:40 PM</td>\n",
       "      <td>QUEENS</td>\n",
       "      <td>40.753826</td>\n",
       "      <td>-73.884120</td>\n",
       "    </tr>\n",
       "    <tr>\n",
       "      <th>4</th>\n",
       "      <td>4268926</td>\n",
       "      <td>2020-01-01</td>\n",
       "      <td>05:00 AM</td>\n",
       "      <td>QUEENS</td>\n",
       "      <td>40.747097</td>\n",
       "      <td>-73.886665</td>\n",
       "    </tr>\n",
       "  </tbody>\n",
       "</table>\n",
       "</div>"
      ],
      "text/plain": [
       "   collision_id  crash_date crash_time    borough   latitude  longitude\n",
       "0       4269445  2020-01-01   04:20 AM     QUEENS  40.762196 -73.870415\n",
       "1       4267699  2020-01-01   03:41 PM  MANHATTAN  40.780754 -73.952580\n",
       "2       4268937  2020-01-01   07:00 PM     QUEENS  40.725353 -73.821080\n",
       "3       4270271  2020-01-01   02:40 PM     QUEENS  40.753826 -73.884120\n",
       "4       4268926  2020-01-01   05:00 AM     QUEENS  40.747097 -73.886665"
      ]
     },
     "execution_count": 3,
     "metadata": {},
     "output_type": "execute_result"
    }
   ],
   "source": [
    "crash_table_df = pd.read_csv('Resources/CrashTable.csv')\n",
    "crash_table_df.head()"
   ]
  },
  {
   "cell_type": "code",
   "execution_count": 4,
   "id": "4b6cb97b-895b-4142-a132-7e59bbd226c8",
   "metadata": {
    "tags": []
   },
   "outputs": [
    {
     "name": "stdout",
     "output_type": "stream",
     "text": [
      "<class 'pandas.core.frame.DataFrame'>\n",
      "RangeIndex: 205739 entries, 0 to 205738\n",
      "Data columns (total 6 columns):\n",
      " #   Column        Non-Null Count   Dtype  \n",
      "---  ------        --------------   -----  \n",
      " 0   collision_id  205739 non-null  int64  \n",
      " 1   crash_date    205739 non-null  object \n",
      " 2   crash_time    205739 non-null  object \n",
      " 3   borough       205739 non-null  object \n",
      " 4   latitude      205739 non-null  float64\n",
      " 5   longitude     205739 non-null  float64\n",
      "dtypes: float64(2), int64(1), object(3)\n",
      "memory usage: 9.4+ MB\n"
     ]
    }
   ],
   "source": [
    "crash_table_df.info()"
   ]
  },
  {
   "cell_type": "code",
   "execution_count": 17,
   "id": "14a22ffa-c021-458e-9cb0-fe749076966a",
   "metadata": {
    "tags": []
   },
   "outputs": [
    {
     "data": {
      "text/plain": [
       "array(['QUEENS', 'MANHATTAN', 'BROOKLYN', 'BRONX', 'STATEN ISLAND',\n",
       "       'Unknown'], dtype=object)"
      ]
     },
     "execution_count": 17,
     "metadata": {},
     "output_type": "execute_result"
    }
   ],
   "source": [
    "unique_boroughs = crash_table_df['borough'].unique()\n",
    "unique_boroughs"
   ]
  },
  {
   "cell_type": "code",
   "execution_count": 8,
   "id": "306b65f5-c18c-486e-ab7f-4135098cf71c",
   "metadata": {
    "tags": []
   },
   "outputs": [
    {
     "data": {
      "text/plain": [
       "borough\n",
       "BRONX            29142\n",
       "BROOKLYN         64226\n",
       "MANHATTAN        55382\n",
       "QUEENS           47105\n",
       "STATEN ISLAND     7842\n",
       "Unknown           2042\n",
       "Name: collision_id, dtype: int64"
      ]
     },
     "execution_count": 8,
     "metadata": {},
     "output_type": "execute_result"
    }
   ],
   "source": [
    "per_borough_counts = crash_table_df.groupby('borough')['collision_id'].count()\n",
    "per_borough_counts"
   ]
  },
  {
   "cell_type": "code",
   "execution_count": 19,
   "id": "fbc15913-935a-4395-872c-9f2a805954d5",
   "metadata": {
    "tags": []
   },
   "outputs": [
    {
     "data": {
      "text/html": [
       "<div>\n",
       "<style scoped>\n",
       "    .dataframe tbody tr th:only-of-type {\n",
       "        vertical-align: middle;\n",
       "    }\n",
       "\n",
       "    .dataframe tbody tr th {\n",
       "        vertical-align: top;\n",
       "    }\n",
       "\n",
       "    .dataframe thead th {\n",
       "        text-align: right;\n",
       "    }\n",
       "</style>\n",
       "<table border=\"1\" class=\"dataframe\">\n",
       "  <thead>\n",
       "    <tr style=\"text-align: right;\">\n",
       "      <th></th>\n",
       "      <th>Boroughs</th>\n",
       "      <th>Collisions</th>\n",
       "    </tr>\n",
       "    <tr>\n",
       "      <th>borough</th>\n",
       "      <th></th>\n",
       "      <th></th>\n",
       "    </tr>\n",
       "  </thead>\n",
       "  <tbody>\n",
       "    <tr>\n",
       "      <th>BRONX</th>\n",
       "      <td>QUEENS</td>\n",
       "      <td>29142</td>\n",
       "    </tr>\n",
       "    <tr>\n",
       "      <th>BROOKLYN</th>\n",
       "      <td>MANHATTAN</td>\n",
       "      <td>64226</td>\n",
       "    </tr>\n",
       "    <tr>\n",
       "      <th>MANHATTAN</th>\n",
       "      <td>BROOKLYN</td>\n",
       "      <td>55382</td>\n",
       "    </tr>\n",
       "    <tr>\n",
       "      <th>QUEENS</th>\n",
       "      <td>BRONX</td>\n",
       "      <td>47105</td>\n",
       "    </tr>\n",
       "    <tr>\n",
       "      <th>STATEN ISLAND</th>\n",
       "      <td>STATEN ISLAND</td>\n",
       "      <td>7842</td>\n",
       "    </tr>\n",
       "  </tbody>\n",
       "</table>\n",
       "</div>"
      ],
      "text/plain": [
       "                    Boroughs  Collisions\n",
       "borough                                 \n",
       "BRONX                 QUEENS       29142\n",
       "BROOKLYN           MANHATTAN       64226\n",
       "MANHATTAN           BROOKLYN       55382\n",
       "QUEENS                 BRONX       47105\n",
       "STATEN ISLAND  STATEN ISLAND        7842"
      ]
     },
     "execution_count": 19,
     "metadata": {},
     "output_type": "execute_result"
    }
   ],
   "source": [
    "borough_collisions=pd.DataFrame({'Boroughs':unique_boroughs,'Collisions':per_borough_counts})\n",
    "borough_collisions.head()"
   ]
  },
  {
   "cell_type": "code",
   "execution_count": 20,
   "id": "14568783-8eaf-4af8-a4a9-9fb7f24a7469",
   "metadata": {
    "tags": []
   },
   "outputs": [],
   "source": [
    "borough_collisions.to_csv(\"Resources/borough_collisions.csv\", encoding='utf8', index=False)"
   ]
  },
  {
   "cell_type": "code",
   "execution_count": null,
   "id": "0f0699aa-fadf-4d50-8cdc-d4a0276a6258",
   "metadata": {},
   "outputs": [],
   "source": []
  }
 ],
 "metadata": {
  "kernelspec": {
   "display_name": "Python 3 (ipykernel)",
   "language": "python",
   "name": "python3"
  },
  "language_info": {
   "codemirror_mode": {
    "name": "ipython",
    "version": 3
   },
   "file_extension": ".py",
   "mimetype": "text/x-python",
   "name": "python",
   "nbconvert_exporter": "python",
   "pygments_lexer": "ipython3",
   "version": "3.10.12"
  }
 },
 "nbformat": 4,
 "nbformat_minor": 5
}
